{
 "cells": [
  {
   "cell_type": "code",
   "execution_count": 65,
   "metadata": {
    "_cell_guid": "b1076dfc-b9ad-4769-8c92-a6c4dae69d19",
    "_uuid": "8f2839f25d086af736a60e9eeb907d3b93b6e0e5"
   },
   "outputs": [
    {
     "name": "stdout",
     "output_type": "stream",
     "text": [
      "..\\players\\predict\\cr1.png\n",
      "..\\players\\predict\\cr2.png\n",
      "..\\players\\predict\\messi1.png\n",
      "..\\players\\predict\\messi2.png\n",
      "..\\players\\predict\\messi3.png\n",
      "..\\players\\test\\Cristiano Ronaldo\\CR7_prueba.png\n",
      "..\\players\\test\\Cristiano Ronaldo\\CR7_prueba2.png\n",
      "..\\players\\test\\Cristiano Ronaldo\\CR7_prueba3.png\n",
      "..\\players\\test\\Cristiano Ronaldo\\CR7_prueba4.png\n",
      "..\\players\\test\\Cristiano Ronaldo\\CR7_prueba5.png\n",
      "..\\players\\test\\Lionel Messi\\2020-07-11 12_18_02-Lionel Messi 2020 ● Dribbling Skills & Goals 🇦🇷🔵🔴 - YouTube.png\n",
      "..\\players\\test\\Lionel Messi\\2020-07-11 12_20_12-Lionel Messi - King Of Football - YouTube.png\n",
      "..\\players\\test\\Lionel Messi\\2020-07-11 12_22_38-Lionel Messi - King Of Football - YouTube.png\n",
      "..\\players\\test\\Lionel Messi\\2020-07-11 12_31_45-If you challenge Messi, you will regret it - YouTube.png\n",
      "..\\players\\test\\Lionel Messi\\2020-07-11 12_33_26-If you challenge Messi, you will regret it - YouTube.png\n",
      "..\\players\\test\\Lionel Messi\\2020-07-11 12_33_57-If you challenge Messi, you will regret it - YouTube.png\n",
      "..\\players\\test\\Lionel Messi\\2020-07-11 12_37_20-If you challenge Messi, you will regret it - YouTube.png\n",
      "..\\players\\test\\Paulo Dybala\\2020-07-11 12_39_43-Paulo Dybala _ Magic Skills Show - YouTube.png\n",
      "..\\players\\test\\Paulo Dybala\\2020-07-11 12_43_23-Paulo Dybala _ Magic Skills Show - YouTube.png\n",
      "..\\players\\test\\Paulo Dybala\\2020-07-11 12_44_20-Paulo Dybala _ Magic Skills Show - YouTube.png\n",
      "..\\players\\test\\Paulo Dybala\\2020-07-11 12_44_30-Paulo Dybala _ Magic Skills Show - YouTube.png\n",
      "..\\players\\test\\Paulo Dybala\\2020-07-11 12_44_51-Paulo Dybala _ Magic Skills Show - YouTube.png\n",
      "..\\players\\test\\Paulo Dybala\\2020-07-11 12_46_17-Paulo Dybala _ Magic Skills Show - YouTube.png\n",
      "..\\players\\test\\Sergio Romero\\2020-07-11 12_49_32-Sergio Romero●Insane saves and skills 2019● -1080p - YouTube.png\n",
      "..\\players\\test\\Sergio Romero\\2020-07-11 12_50_16-Sergio Romero●Insane saves and skills 2019● -1080p - YouTube.png\n",
      "..\\players\\test\\Sergio Romero\\2020-07-11 12_53_59-Sergio Romero●Insane saves and skills 2019● -1080p - YouTube.png\n",
      "..\\players\\test\\Sergio Romero\\2020-07-11 12_55_04-Sergio Romero●Insane saves and skills 2019● -1080p - YouTube.png\n",
      "..\\players\\train\\Cristiano Ronaldo\\2020-07-11 11_56_49-Juventus - Atlético de Madrid [3-0] _ GOLES _ Octavos de final (VUELTA) _ UEFA C.png\n",
      "..\\players\\train\\Cristiano Ronaldo\\2020-07-11 11_57_27-Juventus - Atlético de Madrid [3-0] _ GOLES _ Octavos de final (VUELTA) _ UEFA C.png\n",
      "..\\players\\train\\Cristiano Ronaldo\\2020-07-11 11_57_55-Juventus - Atlético de Madrid [3-0] _ GOLES _ Octavos de final (VUELTA) _ UEFA C.png\n",
      "..\\players\\train\\Cristiano Ronaldo\\2020-07-11 11_58_07-Juventus - Atlético de Madrid [3-0] _ GOLES _ Octavos de final (VUELTA) _ UEFA C.png\n",
      "..\\players\\train\\Cristiano Ronaldo\\2020-07-11 11_58_19-Juventus - Atlético de Madrid [3-0] _ GOLES _ Octavos de final (VUELTA) _ UEFA C.png\n",
      "..\\players\\train\\Cristiano Ronaldo\\2020-07-11 12_00_37-Juventus - Atlético de Madrid [3-0] _ GOLES _ Octavos de final (VUELTA) _ UEFA C.png\n",
      "..\\players\\train\\Cristiano Ronaldo\\2020-07-11 12_01_12-Juventus - Atlético de Madrid [3-0] _ GOLES _ Octavos de final (VUELTA) _ UEFA C.png\n",
      "..\\players\\train\\Cristiano Ronaldo\\2020-07-11 12_01_25-Juventus - Atlético de Madrid [3-0] _ GOLES _ Octavos de final (VUELTA) _ UEFA C.png\n",
      "..\\players\\train\\Cristiano Ronaldo\\2020-07-11 12_01_35-Juventus - Atlético de Madrid [3-0] _ GOLES _ Octavos de final (VUELTA) _ UEFA C.png\n",
      "..\\players\\train\\Cristiano Ronaldo\\2020-07-11 12_02_30-Cristiano Ronaldo 2020 ● Skills & Goals 🇵🇹⚪️⚫️ - YouTube.png\n",
      "..\\players\\train\\Cristiano Ronaldo\\2020-07-11 12_04_37-Cristiano Ronaldo 2018 _ 2017_18 - Skills & Goals ᴴᴰ - YouTube.png\n",
      "..\\players\\train\\Cristiano Ronaldo\\2020-07-11 12_04_56-Cristiano Ronaldo 2018 _ 2017_18 - Skills & Goals ᴴᴰ - YouTube.png\n",
      "..\\players\\train\\Cristiano Ronaldo\\2020-07-11 12_05_14-Cristiano Ronaldo 2018 _ 2017_18 - Skills & Goals ᴴᴰ - YouTube.png\n",
      "..\\players\\train\\Cristiano Ronaldo\\2020-07-11 12_05_25-Cristiano Ronaldo 2018 _ 2017_18 - Skills & Goals ᴴᴰ - YouTube.png\n",
      "..\\players\\train\\Cristiano Ronaldo\\2020-07-11 12_05_36-Cristiano Ronaldo 2018 _ 2017_18 - Skills & Goals ᴴᴰ - YouTube.png\n",
      "..\\players\\train\\Cristiano Ronaldo\\2020-07-11 12_05_47-Cristiano Ronaldo 2018 _ 2017_18 - Skills & Goals ᴴᴰ - YouTube.png\n",
      "..\\players\\train\\Cristiano Ronaldo\\2020-07-11 12_06_15-Cristiano Ronaldo 2018 _ 2017_18 - Skills & Goals ᴴᴰ - YouTube.png\n",
      "..\\players\\train\\Cristiano Ronaldo\\2020-07-11 12_06_27-Cristiano Ronaldo 2018 _ 2017_18 - Skills & Goals ᴴᴰ - YouTube.png\n",
      "..\\players\\train\\Cristiano Ronaldo\\2020-07-11 12_06_38-Cristiano Ronaldo 2018 _ 2017_18 - Skills & Goals ᴴᴰ - YouTube.png\n",
      "..\\players\\train\\Cristiano Ronaldo\\2020-07-11 12_06_56-Cristiano Ronaldo 2018 _ 2017_18 - Skills & Goals ᴴᴰ - YouTube.png\n",
      "..\\players\\train\\Cristiano Ronaldo\\2020-07-11 12_07_17-Cristiano Ronaldo 2018 _ 2017_18 - Skills & Goals ᴴᴰ - YouTube.png\n",
      "..\\players\\train\\Cristiano Ronaldo\\2020-07-11 12_07_51-Cristiano Ronaldo 2018 _ 2017_18 - Skills & Goals ᴴᴰ - YouTube.png\n",
      "..\\players\\train\\Cristiano Ronaldo\\2020-07-11 12_08_21-Cristiano Ronaldo 2018 _ 2017_18 - Skills & Goals ᴴᴰ - YouTube.png\n",
      "..\\players\\train\\Cristiano Ronaldo\\2020-07-11 12_10_52-Cristiano Ronaldo 2019 - Goals & Skills - Juventus _ HD - YouTube.png\n",
      "..\\players\\train\\Cristiano Ronaldo\\2020-07-11 12_11_38-Cristiano Ronaldo 2019 - Goals & Skills - Juventus _ HD - YouTube.png\n",
      "..\\players\\train\\Cristiano Ronaldo\\2020-07-11 12_11_50-Cristiano Ronaldo 2019 - Goals & Skills - Juventus _ HD - YouTube.png\n",
      "..\\players\\train\\Cristiano Ronaldo\\2020-07-11 12_12_03-Cristiano Ronaldo 2019 - Goals & Skills - Juventus _ HD - YouTube.png\n",
      "..\\players\\train\\Cristiano Ronaldo\\2020-07-11 12_13_55-Cristiano Ronaldo 2019 - Goals & Skills - Juventus _ HD - YouTube.png\n",
      "..\\players\\train\\Cristiano Ronaldo\\2020-07-11 12_15_08-Cristiano Ronaldo 2019 - Goals & Skills - Juventus _ HD - YouTube.png\n",
      "..\\players\\train\\Cristiano Ronaldo\\2020-07-11 12_27_02-If you challenge Messi, you will regret it - YouTube.png\n",
      "..\\players\\train\\Lionel Messi\\2020-07-11 12_17_46-Lionel Messi 2020 ● Dribbling Skills & Goals 🇦🇷🔵🔴 - YouTube.png\n",
      "..\\players\\train\\Lionel Messi\\2020-07-11 12_19_22-Lionel Messi - King Of Football - YouTube.png\n",
      "..\\players\\train\\Lionel Messi\\2020-07-11 12_20_26-Lionel Messi - King Of Football - YouTube.png\n",
      "..\\players\\train\\Lionel Messi\\2020-07-11 12_20_37-Lionel Messi - King Of Football - YouTube.png\n",
      "..\\players\\train\\Lionel Messi\\2020-07-11 12_20_48-Lionel Messi - King Of Football - YouTube.png\n",
      "..\\players\\train\\Lionel Messi\\2020-07-11 12_21_04-Lionel Messi - King Of Football - YouTube.png\n",
      "..\\players\\train\\Lionel Messi\\2020-07-11 12_23_15-Lionel Messi - King Of Football - YouTube.png\n",
      "..\\players\\train\\Lionel Messi\\2020-07-11 12_26_32-If you challenge Messi, you will regret it - YouTube.png\n",
      "..\\players\\train\\Lionel Messi\\2020-07-11 12_30_13-If you challenge Messi, you will regret it - YouTube.png\n",
      "..\\players\\train\\Lionel Messi\\2020-07-11 12_30_29-If you challenge Messi, you will regret it - YouTube.png\n",
      "..\\players\\train\\Lionel Messi\\2020-07-11 12_32_41-If you challenge Messi, you will regret it - YouTube.png\n",
      "..\\players\\train\\Lionel Messi\\2020-07-11 12_33_17-If you challenge Messi, you will regret it - YouTube.png\n",
      "..\\players\\train\\Lionel Messi\\2020-07-11 12_34_11-If you challenge Messi, you will regret it - YouTube.png\n",
      "..\\players\\train\\Lionel Messi\\2020-07-11 12_35_23-If you challenge Messi, you will regret it - YouTube.png\n",
      "..\\players\\train\\Lionel Messi\\2020-07-11 12_35_52-If you challenge Messi, you will regret it - YouTube.png\n",
      "..\\players\\train\\Lionel Messi\\2020-07-11 12_37_51-If you challenge Messi, you will regret it - YouTube.png\n",
      "..\\players\\train\\Lionel Messi\\2020-07-11 12_38_11-If you challenge Messi, you will regret it - YouTube.png\n",
      "..\\players\\train\\Paulo Dybala\\2020-07-11 12_39_25-Paulo Dybala _ Magic Skills Show - YouTube.png\n",
      "..\\players\\train\\Paulo Dybala\\2020-07-11 12_39_54-Paulo Dybala _ Magic Skills Show - YouTube.png\n",
      "..\\players\\train\\Paulo Dybala\\2020-07-11 12_40_08-Paulo Dybala _ Magic Skills Show - YouTube.png\n",
      "..\\players\\train\\Paulo Dybala\\2020-07-11 12_40_19-Paulo Dybala _ Magic Skills Show - YouTube.png\n",
      "..\\players\\train\\Paulo Dybala\\2020-07-11 12_40_27-Paulo Dybala _ Magic Skills Show - YouTube.png\n",
      "..\\players\\train\\Paulo Dybala\\2020-07-11 12_40_51-Paulo Dybala _ Magic Skills Show - YouTube.png\n",
      "..\\players\\train\\Paulo Dybala\\2020-07-11 12_41_43-Paulo Dybala _ Magic Skills Show - YouTube.png\n",
      "..\\players\\train\\Paulo Dybala\\2020-07-11 12_42_09-Paulo Dybala _ Magic Skills Show - YouTube.png\n",
      "..\\players\\train\\Paulo Dybala\\2020-07-11 12_43_55-Paulo Dybala _ Magic Skills Show - YouTube.png\n",
      "..\\players\\train\\Paulo Dybala\\2020-07-11 12_44_09-Paulo Dybala _ Magic Skills Show - YouTube.png\n",
      "..\\players\\train\\Paulo Dybala\\2020-07-11 12_45_06-Paulo Dybala _ Magic Skills Show - YouTube.png\n",
      "..\\players\\train\\Paulo Dybala\\2020-07-11 12_45_16-Paulo Dybala _ Magic Skills Show - YouTube.png\n",
      "..\\players\\train\\Paulo Dybala\\2020-07-11 12_45_23-Paulo Dybala _ Magic Skills Show - YouTube.png\n",
      "..\\players\\train\\Paulo Dybala\\2020-07-11 12_45_32-Paulo Dybala _ Magic Skills Show - YouTube.png\n",
      "..\\players\\train\\Paulo Dybala\\2020-07-11 12_45_41-Paulo Dybala _ Magic Skills Show - YouTube.png\n",
      "..\\players\\train\\Paulo Dybala\\2020-07-11 12_45_48-Paulo Dybala _ Magic Skills Show - YouTube.png\n",
      "..\\players\\train\\Paulo Dybala\\2020-07-11 12_46_03-Paulo Dybala _ Magic Skills Show - YouTube.png\n",
      "..\\players\\train\\Paulo Dybala\\2020-07-11 12_46_26-Paulo Dybala _ Magic Skills Show - YouTube.png\n",
      "..\\players\\train\\Paulo Dybala\\2020-07-11 12_46_35-Paulo Dybala _ Magic Skills Show - YouTube.png\n",
      "..\\players\\train\\Paulo Dybala\\2020-07-11 12_46_47-Paulo Dybala _ Magic Skills Show - YouTube.png\n",
      "..\\players\\train\\Sergio Romero\\2020-07-11 12_49_23-Sergio Romero●Insane saves and skills 2019● -1080p - YouTube.png\n",
      "..\\players\\train\\Sergio Romero\\2020-07-11 12_49_50-Sergio Romero●Insane saves and skills 2019● -1080p - YouTube.png\n",
      "..\\players\\train\\Sergio Romero\\2020-07-11 12_50_07-Sergio Romero●Insane saves and skills 2019● -1080p - YouTube.png\n",
      "..\\players\\train\\Sergio Romero\\2020-07-11 12_50_25-Sergio Romero●Insane saves and skills 2019● -1080p - YouTube.png\n",
      "..\\players\\train\\Sergio Romero\\2020-07-11 12_51_44-Sergio Romero●Insane saves and skills 2019● -1080p - YouTube.png\n",
      "..\\players\\train\\Sergio Romero\\2020-07-11 12_51_52-Sergio Romero●Insane saves and skills 2019● -1080p - YouTube.png\n",
      "..\\players\\train\\Sergio Romero\\2020-07-11 12_51_59-Sergio Romero●Insane saves and skills 2019● -1080p - YouTube.png\n",
      "..\\players\\train\\Sergio Romero\\2020-07-11 12_52_38-Sergio Romero●Insane saves and skills 2019● -1080p - YouTube.png\n",
      "..\\players\\train\\Sergio Romero\\2020-07-11 12_53_25-Sergio Romero●Insane saves and skills 2019● -1080p - YouTube.png\n",
      "..\\players\\train\\Sergio Romero\\2020-07-11 12_53_50-Sergio Romero●Insane saves and skills 2019● -1080p - YouTube.png\n",
      "..\\players\\train\\Sergio Romero\\2020-07-11 12_54_13-Sergio Romero●Insane saves and skills 2019● -1080p - YouTube.png\n",
      "..\\players\\train\\Sergio Romero\\2020-07-11 12_54_22-Sergio Romero●Insane saves and skills 2019● -1080p - YouTube.png\n",
      "..\\players\\train\\Sergio Romero\\2020-07-11 12_54_30-Sergio Romero●Insane saves and skills 2019● -1080p - YouTube.png\n",
      "..\\players\\train\\Sergio Romero\\2020-07-11 12_54_38-Sergio Romero●Insane saves and skills 2019● -1080p - YouTube.png\n",
      "..\\players\\train\\Sergio Romero\\2020-07-11 12_55_33-Sergio Romero●Insane saves and skills 2019● -1080p - YouTube.png\n",
      "..\\players\\train\\Sergio Romero\\2020-07-11 12_55_51-Sergio Romero●Insane saves and skills 2019● -1080p - YouTube.png\n",
      "..\\players\\train\\Sergio Romero\\sergioromero.png\n"
     ]
    }
   ],
   "source": [
    "# This Python 3 environment comes with many helpful analytics libraries installed\n",
    "# It is defined by the kaggle/python Docker image: https://github.com/kaggle/docker-python\n",
    "# For example, here's several helpful packages to load\n",
    "\n",
    "import numpy as np # linear algebra\n",
    "import pandas as pd # data processing, CSV file I/O (e.g. pd.read_csv)\n",
    "\n",
    "# Input data files are available in the read-only \"../input/\" directory\n",
    "# For example, running this (by clicking run or pressing Shift+Enter) will list all files under the input directory\n",
    "\n",
    "import os\n",
    "for dirname, _, filenames in os.walk('..\\\\players\\\\'):\n",
    "    for filename in filenames:\n",
    "        print(os.path.join(dirname, filename))\n",
    "\n",
    "# You can write up to 5GB to the current directory (/kaggle/working/) that gets preserved as output when you create a version using \"Save & Run All\" \n",
    "# You can also write temporary files to /kaggle/temp/, but they won't be saved outside of the current session"
   ]
  },
  {
   "cell_type": "code",
   "execution_count": 66,
   "metadata": {
    "_cell_guid": "79c7e3d0-c299-4dcb-8224-4455121ee9b0",
    "_uuid": "d629ff2d2480ee46fbb7e2d37f6b5fab8052498a"
   },
   "outputs": [],
   "source": [
    "from keras.models import Sequential\n",
    "from keras.layers import Conv2D, ZeroPadding2D, Activation, Input, concatenate\n",
    "from keras.models import Model\n",
    "from keras.layers.normalization import BatchNormalization\n",
    "from keras.layers.pooling import MaxPooling2D, AveragePooling2D\n",
    "from keras.layers.merge import Concatenate\n",
    "from keras.layers.core import Lambda, Flatten, Dense\n",
    "from keras.initializers import glorot_uniform\n",
    "from keras.engine.topology import Layer\n",
    "from keras import backend as K\n",
    "\n",
    "import cv2\n",
    "import os\n",
    "import numpy as np\n",
    "from numpy import genfromtxt\n",
    "import pandas as pd\n",
    "import tensorflow as tf\n",
    "from tensorflow.keras.preprocessing.image import ImageDataGenerator"
   ]
  },
  {
   "cell_type": "code",
   "execution_count": 67,
   "metadata": {},
   "outputs": [],
   "source": [
    "import os\n",
    "from tensorflow.keras import layers\n",
    "from tensorflow.keras import Model"
   ]
  },
  {
   "cell_type": "code",
   "execution_count": 68,
   "metadata": {},
   "outputs": [
    {
     "name": "stdout",
     "output_type": "stream",
     "text": [
      "last layer output shape:  (None, 7, 7, 768)\n"
     ]
    }
   ],
   "source": [
    "# Import the inception model  \n",
    "from tensorflow.keras.applications.inception_v3 import InceptionV3\n",
    "\n",
    "# Create an instance of the inception model from the local pre-trained weights\n",
    "local_weights_file = '../model/inception_v3_weights_tf_dim_ordering_tf_kernels_notop.h5'\n",
    "\n",
    "pre_trained_model = InceptionV3(\n",
    "    input_shape=(150, 150, 3),\n",
    "    include_top=False,\n",
    "    weights=None\n",
    ")\n",
    "\n",
    "pre_trained_model.load_weights(local_weights_file)\n",
    "\n",
    "# Make all the layers in the pre-trained model non-trainable\n",
    "for layer in pre_trained_model.layers:\n",
    "    layer.trainable = False\n",
    "\n",
    "# Print the model summary\n",
    "#pre_trained_model.summary()\n",
    "\n",
    "last_layer = pre_trained_model.get_layer('mixed7')\n",
    "print('last layer output shape: ', last_layer.output_shape)\n",
    "last_output = last_layer.output"
   ]
  },
  {
   "cell_type": "code",
   "execution_count": 69,
   "metadata": {},
   "outputs": [],
   "source": [
    "from tensorflow.keras.optimizers import RMSprop\n",
    "# Flatten the output layer to 1 dimension\n",
    "x = layers.Flatten()(last_output)\n",
    "# Add a fully connected layer with 1,024 hidden units and ReLU activation\n",
    "x = layers.Dense(1024, activation='relu')(x)\n",
    "# Add a dropout rate of 0.1\n",
    "#x = layers.Dropout(.1)(x)                  \n",
    "# Add a final sigmoid layer for classification\n",
    "x = layers.Dense(4, activation='softmax')(x)           \n",
    "\n",
    "model = Model(pre_trained_model.input, x) \n",
    "\n",
    "model.compile(\n",
    "    optimizer= RMSprop(lr=0.01), \n",
    "    loss='categorical_crossentropy', \n",
    "    metrics=['accuracy']\n",
    ")"
   ]
  },
  {
   "cell_type": "code",
   "execution_count": 70,
   "metadata": {},
   "outputs": [],
   "source": [
    "base_dir = '..\\\\players'\n",
    "\n",
    "train_dir = os.path.join(base_dir, 'train')\n",
    "validation_dir = os.path.join(base_dir, 'test')\n",
    "\n",
    "train_messi_dir = os.path.join(train_dir, 'Lionel Messi')\n",
    "train_ronaldo_dir = os.path.join(train_dir, 'Cristiano Ronaldo')\n",
    "train_dybala_dir = os.path.join(train_dir, 'Paulo Dybala')\n",
    "#train_aguero_dir = os.path.join(train_dir, 'Sergio Aguero')\n",
    "train_romero_dir = os.path.join(train_dir, 'Sergio Romero')\n",
    "\n",
    "# Directory with our validation pictures\n",
    "validation_messi_dir = os.path.join(validation_dir, 'Lionel Messi')\n",
    "validation_ronaldo_dir = os.path.join(validation_dir, 'Cristiano Ronaldo')\n",
    "validation_dybala_dir = os.path.join(validation_dir, 'Paulo Dybala')\n",
    "#validation_aguero_dir = os.path.join(validation_dir, 'Sergio Aguero')\n",
    "validation_romero_dir = os.path.join(validation_dir, 'Sergio Romero')"
   ]
  },
  {
   "cell_type": "code",
   "execution_count": 71,
   "metadata": {},
   "outputs": [
    {
     "data": {
      "text/plain": [
       "\"import matplotlib.pyplot as plt\\nimport matplotlib.image as mpimg\\nimg=mpimg.imread('..\\\\players\\\\train\\\\Cristiano Ronaldo\\\\2020-07-11 12_10_52-Cristiano Ronaldo 2019 - Goals & Skills - Juventus _ HD - YouTube.png')\\nimgplot = plt.imshow(img)\\nplt.show()\""
      ]
     },
     "execution_count": 71,
     "metadata": {},
     "output_type": "execute_result"
    }
   ],
   "source": [
    "'''import matplotlib.pyplot as plt\n",
    "import matplotlib.image as mpimg\n",
    "img=mpimg.imread('..\\\\players\\\\train\\\\Cristiano Ronaldo\\\\2020-07-11 12_10_52-Cristiano Ronaldo 2019 - Goals & Skills - Juventus _ HD - YouTube.png')\n",
    "imgplot = plt.imshow(img)\n",
    "plt.show()'''"
   ]
  },
  {
   "cell_type": "code",
   "execution_count": 72,
   "metadata": {},
   "outputs": [
    {
     "name": "stdout",
     "output_type": "stream",
     "text": [
      "total training messi images : 17\n",
      "total training ronaldo images : 30\n",
      "total validation messi images : 7\n",
      "total validation ronaldo images : 5\n"
     ]
    }
   ],
   "source": [
    "print('total training messi images :', len(os.listdir( train_messi_dir ) ))\n",
    "print('total training ronaldo images :', len(os.listdir(train_ronaldo_dir ) ))\n",
    "\n",
    "print('total validation messi images :', len(os.listdir(validation_messi_dir ) ))\n",
    "print('total validation ronaldo images :', len(os.listdir(validation_ronaldo_dir ) ))"
   ]
  },
  {
   "cell_type": "code",
   "execution_count": 73,
   "metadata": {},
   "outputs": [],
   "source": [
    "model = tf.keras.models.Sequential([\n",
    "    # Note the input shape is the desired size of the image 150x150 with 3 bytes color\n",
    "    tf.keras.layers.Conv2D(16, (3,3), activation='relu', input_shape=(150, 150, 3)),\n",
    "    tf.keras.layers.MaxPooling2D(2,2),\n",
    "    tf.keras.layers.Conv2D(32, (3,3), activation='relu'),\n",
    "    tf.keras.layers.MaxPooling2D(2,2), \n",
    "    #tf.keras.layers.Conv2D(64, (3,3), activation='relu'), \n",
    "    #tf.keras.layers.MaxPooling2D(2,2), \n",
    "    #tf.keras.layers.Conv2D(128, (3,3), activation='relu'), \n",
    "    #tf.keras.layers.MaxPooling2D(2,2), \n",
    "   \n",
    "    # Flatten the results to feed into a DNN\n",
    "    tf.keras.layers.Flatten(), \n",
    "    #tf.keras.layers.Dense(1024, activation='relu'), \n",
    "    #tf.keras.layers.Dense(512, activation='relu'), \n",
    "    #tf.keras.layers.Dense(256, activation='relu'), \n",
    "    tf.keras.layers.Dense(128, activation='relu'),\n",
    "    tf.keras.layers.Dense(64, activation='relu'), \n",
    "    tf.keras.layers.Dense(4, activation='softmax')  \n",
    "])"
   ]
  },
  {
   "cell_type": "code",
   "execution_count": 74,
   "metadata": {},
   "outputs": [],
   "source": [
    "from tensorflow.keras.optimizers import RMSprop\n",
    "\n",
    "model.compile(optimizer=RMSprop(lr=0.001),\n",
    "              loss='categorical_crossentropy',\n",
    "              metrics = ['accuracy'])\n"
   ]
  },
  {
   "cell_type": "code",
   "execution_count": 75,
   "metadata": {},
   "outputs": [],
   "source": [
    "from tensorflow.keras.preprocessing.image import ImageDataGenerator\n",
    "\n",
    "# All images will be rescaled by 1./255.\n",
    "train_datagen = ImageDataGenerator( rescale = 1.0/255. )\n",
    "test_datagen  = ImageDataGenerator( rescale = 1.0/255. )"
   ]
  },
  {
   "cell_type": "code",
   "execution_count": 76,
   "metadata": {},
   "outputs": [
    {
     "name": "stdout",
     "output_type": "stream",
     "text": [
      "Found 84 images belonging to 4 classes.\n"
     ]
    }
   ],
   "source": [
    "train_generator = train_datagen.flow_from_directory(train_dir,\n",
    "                                                    batch_size=12,\n",
    "                                                    class_mode='categorical',\n",
    "                                                    target_size=(150, 150)\n",
    "                                                    )"
   ]
  },
  {
   "cell_type": "code",
   "execution_count": 77,
   "metadata": {},
   "outputs": [
    {
     "name": "stdout",
     "output_type": "stream",
     "text": [
      "Found 22 images belonging to 4 classes.\n"
     ]
    }
   ],
   "source": [
    "validation_generator =  test_datagen.flow_from_directory(validation_dir,\n",
    "                                                         batch_size= 2,\n",
    "                                                         class_mode  = 'categorical',\n",
    "                                                         target_size = (150, 150))"
   ]
  },
  {
   "cell_type": "code",
   "execution_count": 78,
   "metadata": {},
   "outputs": [
    {
     "name": "stdout",
     "output_type": "stream",
     "text": [
      "Epoch 1/25\n",
      "100/100 [==============================] - 22s 216ms/step - loss: 0.4540 - accuracy: 0.8394 - val_loss: 0.9647 - val_accuracy: 0.6818\n",
      "Epoch 2/25\n",
      "100/100 [==============================] - 21s 211ms/step - loss: 0.0840 - accuracy: 0.9914 - val_loss: 0.7330 - val_accuracy: 0.7295\n",
      "Epoch 3/25\n",
      "100/100 [==============================] - 21s 213ms/step - loss: 2.2493e-04 - accuracy: 1.0000 - val_loss: 0.9705 - val_accuracy: 0.7727\n",
      "Epoch 4/25\n",
      "100/100 [==============================] - 22s 215ms/step - loss: 8.4521e-07 - accuracy: 1.0000 - val_loss: 1.1541 - val_accuracy: 0.7750\n",
      "Epoch 5/25\n",
      "100/100 [==============================] - 22s 215ms/step - loss: 4.8922e-09 - accuracy: 1.0000 - val_loss: 1.2927 - val_accuracy: 0.7750\n",
      "Epoch 6/25\n",
      "100/100 [==============================] - 22s 219ms/step - loss: 0.0000e+00 - accuracy: 1.0000 - val_loss: 1.2552 - val_accuracy: 0.7727\n",
      "Epoch 7/25\n",
      "100/100 [==============================] - 21s 215ms/step - loss: 0.0000e+00 - accuracy: 1.0000 - val_loss: 1.2129 - val_accuracy: 0.7773\n",
      "Epoch 8/25\n",
      "100/100 [==============================] - 21s 214ms/step - loss: 0.0000e+00 - accuracy: 1.0000 - val_loss: 1.2490 - val_accuracy: 0.7750\n",
      "Epoch 9/25\n",
      "100/100 [==============================] - 22s 216ms/step - loss: 0.0000e+00 - accuracy: 1.0000 - val_loss: 1.3973 - val_accuracy: 0.7727\n",
      "Epoch 10/25\n",
      "100/100 [==============================] - 24s 238ms/step - loss: 0.0000e+00 - accuracy: 1.0000 - val_loss: 1.2636 - val_accuracy: 0.7727\n",
      "Epoch 11/25\n",
      "100/100 [==============================] - 23s 234ms/step - loss: 0.0000e+00 - accuracy: 1.0000 - val_loss: 1.3311 - val_accuracy: 0.7727\n",
      "Epoch 12/25\n",
      "100/100 [==============================] - 23s 229ms/step - loss: 0.0000e+00 - accuracy: 1.0000 - val_loss: 1.4112 - val_accuracy: 0.7727\n",
      "Epoch 13/25\n",
      "100/100 [==============================] - 23s 230ms/step - loss: 0.0000e+00 - accuracy: 1.0000 - val_loss: 1.4226 - val_accuracy: 0.7727\n",
      "Epoch 14/25\n",
      "100/100 [==============================] - 22s 224ms/step - loss: 0.0000e+00 - accuracy: 1.0000 - val_loss: 1.3679 - val_accuracy: 0.7705\n",
      "Epoch 15/25\n",
      "100/100 [==============================] - 24s 237ms/step - loss: 0.0000e+00 - accuracy: 1.0000 - val_loss: 1.3752 - val_accuracy: 0.7727\n",
      "Epoch 16/25\n",
      "100/100 [==============================] - 22s 222ms/step - loss: 0.0000e+00 - accuracy: 1.0000 - val_loss: 1.4155 - val_accuracy: 0.7727\n",
      "Epoch 17/25\n",
      "100/100 [==============================] - 22s 219ms/step - loss: 0.0000e+00 - accuracy: 1.0000 - val_loss: 1.4569 - val_accuracy: 0.7705\n",
      "Epoch 18/25\n",
      "100/100 [==============================] - 22s 221ms/step - loss: 0.0000e+00 - accuracy: 1.0000 - val_loss: 1.5349 - val_accuracy: 0.7750\n",
      "Epoch 19/25\n",
      "100/100 [==============================] - 22s 223ms/step - loss: 0.0000e+00 - accuracy: 1.0000 - val_loss: 1.4791 - val_accuracy: 0.7682\n",
      "Epoch 20/25\n",
      "100/100 [==============================] - 22s 220ms/step - loss: 0.0000e+00 - accuracy: 1.0000 - val_loss: 1.6071 - val_accuracy: 0.7705\n",
      "Epoch 21/25\n",
      "100/100 [==============================] - 22s 216ms/step - loss: 0.0000e+00 - accuracy: 1.0000 - val_loss: 1.5783 - val_accuracy: 0.7727\n",
      "Epoch 22/25\n",
      "100/100 [==============================] - 21s 211ms/step - loss: 0.0000e+00 - accuracy: 1.0000 - val_loss: 1.5231 - val_accuracy: 0.7727\n",
      "Epoch 23/25\n",
      "100/100 [==============================] - 22s 217ms/step - loss: 0.0000e+00 - accuracy: 1.0000 - val_loss: 1.6594 - val_accuracy: 0.7727\n",
      "Epoch 24/25\n",
      "100/100 [==============================] - 22s 216ms/step - loss: 0.0000e+00 - accuracy: 1.0000 - val_loss: 1.5636 - val_accuracy: 0.7750\n",
      "Epoch 25/25\n",
      "100/100 [==============================] - 22s 217ms/step - loss: 0.0000e+00 - accuracy: 1.0000 - val_loss: 1.7109 - val_accuracy: 0.7727\n"
     ]
    }
   ],
   "source": [
    "history = model.fit(\n",
    "    train_generator,\n",
    "    epochs= 25,\n",
    "    validation_data=validation_generator,\n",
    "    steps_per_epoch=7,\n",
    "    validation_steps=11\n",
    ")"
   ]
  },
  {
   "cell_type": "code",
   "execution_count": 79,
   "metadata": {},
   "outputs": [
    {
     "data": {
      "image/png": "[encoded data removed]",
      "text/plain": [
       "<Figure size 432x288 with 1 Axes>"
      ]
     },
     "metadata": {
      "needs_background": "light"
     },
     "output_type": "display_data"
    },
    {
     "data": {
      "text/plain": [
       "<Figure size 432x288 with 0 Axes>"
      ]
     },
     "metadata": {},
     "output_type": "display_data"
    }
   ],
   "source": [
    "import matplotlib.pyplot as plt\n",
    "acc = history.history['accuracy']\n",
    "val_acc = history.history['val_accuracy']\n",
    "loss = history.history['loss']\n",
    "val_loss = history.history['val_loss']\n",
    "\n",
    "epochs = range(len(acc))\n",
    "\n",
    "plt.plot(epochs, acc, 'r', label='Training accuracy')\n",
    "plt.plot(epochs, val_acc, 'b', label='Validation accuracy')\n",
    "plt.title('Training and validation accuracy')\n",
    "plt.legend(loc=0)\n",
    "plt.figure()\n",
    "\n",
    "\n",
    "plt.show()\n"
   ]
  },
  {
   "cell_type": "code",
   "execution_count": 31,
   "metadata": {},
   "outputs": [
    {
     "data": {
      "image/png": "[encoded data removed]",
      "text/plain": [
       "<Figure size 432x288 with 1 Axes>"
      ]
     },
     "metadata": {
      "needs_background": "light"
     },
     "output_type": "display_data"
    },
    {
     "name": "stdout",
     "output_type": "stream",
     "text": [
      "[0. 0. 1. 0.]\n",
      "Paulo Dybala\n"
     ]
    }
   ],
   "source": [
    "import numpy as np\n",
    "\n",
    "\n",
    "from keras.preprocessing import image\n",
    "\n",
    "path='../players/test/Paulo Dybala/2020-07-11 12_43_23-Paulo Dybala _ Magic Skills Show - YouTube.png'\n",
    "img=image.load_img(path, target_size=(150, 150))\n",
    "import matplotlib.pyplot as plt\n",
    "plt.imshow(img)\n",
    "plt.show()\n",
    "x=image.img_to_array(img)\n",
    "x=np.expand_dims(x, axis=0)\n",
    "images = np.vstack([x])\n",
    "  \n",
    "classes = model.predict(images, batch_size=10)\n",
    "\n",
    "  \n",
    "print(classes[0])\n",
    "\n",
    "if classes[0][0]==1:\n",
    "    print(\"Cristiano Ronaldo\")\n",
    "elif classes[0][1]==1:\n",
    "    print( \"Lionel Messi\")\n",
    "elif classes[0][2]==1:\n",
    "    print(\"Paulo Dybala\")\n",
    "elif classes[0][3]==1:\n",
    "    print(\"Sergio Romero\")"
   ]
  },
  {
   "cell_type": "code",
   "execution_count": 32,
   "metadata": {},
   "outputs": [],
   "source": [
    "#os.remove(\"/kaggle/working/players_model\")\n",
    "#os.remove(\"/kaggle/working/logistic_reg.sav\")\n",
    "#os.remove(\"/kaggle/working/players_model.sav\")"
   ]
  },
  {
   "cell_type": "code",
   "execution_count": 33,
   "metadata": {},
   "outputs": [
    {
     "name": "stdout",
     "output_type": "stream",
     "text": [
      "2.2.0-rc3\n",
      "Model: \"sequential_1\"\n",
      "_________________________________________________________________\n",
      "Layer (type)                 Output Shape              Param #   \n",
      "=================================================================\n",
      "conv2d_190 (Conv2D)          (None, 148, 148, 16)      448       \n",
      "_________________________________________________________________\n",
      "max_pooling2d_10 (MaxPooling (None, 74, 74, 16)        0         \n",
      "_________________________________________________________________\n",
      "conv2d_191 (Conv2D)          (None, 72, 72, 32)        4640      \n",
      "_________________________________________________________________\n",
      "max_pooling2d_11 (MaxPooling (None, 36, 36, 32)        0         \n",
      "_________________________________________________________________\n",
      "flatten_3 (Flatten)          (None, 41472)             0         \n",
      "_________________________________________________________________\n",
      "dense_7 (Dense)              (None, 128)               5308544   \n",
      "_________________________________________________________________\n",
      "dense_8 (Dense)              (None, 64)                8256      \n",
      "_________________________________________________________________\n",
      "dense_9 (Dense)              (None, 4)                 260       \n",
      "=================================================================\n",
      "Total params: 5,322,148\n",
      "Trainable params: 5,322,148\n",
      "Non-trainable params: 0\n",
      "_________________________________________________________________\n"
     ]
    }
   ],
   "source": [
    "print(tf.version.VERSION)\n",
    "\n",
    "# Display the model's architecture\n",
    "model.summary()"
   ]
  },
  {
   "cell_type": "code",
   "execution_count": 34,
   "metadata": {},
   "outputs": [
    {
     "name": "stdout",
     "output_type": "stream",
     "text": [
      "WARNING:tensorflow:From D:\\Anaconda3\\envs\\eliot\\lib\\site-packages\\tensorflow\\python\\ops\\resource_variable_ops.py:1813: calling BaseResourceVariable.__init__ (from tensorflow.python.ops.resource_variable_ops) with constraint is deprecated and will be removed in a future version.\n",
      "Instructions for updating:\n",
      "If using Keras pass *_constraint arguments to layers.\n",
      "INFO:tensorflow:Assets written to: ../model/players_model\\assets\n"
     ]
    }
   ],
   "source": [
    "#os.remove(\"/kaggle/working/players_model\")\n",
    "model.save('../model/players_model')"
   ]
  },
  {
   "cell_type": "code",
   "execution_count": null,
   "metadata": {},
   "outputs": [],
   "source": [
    "#import shutil\n",
    "#shutil.make_archive(\"images\", 'zip', '../input/football-players')"
   ]
  },
  {
   "cell_type": "code",
   "execution_count": null,
   "metadata": {},
   "outputs": [],
   "source": []
  }
 ],
 "metadata": {
  "kernelspec": {
   "display_name": "eliot",
   "language": "python",
   "name": "eliot"
  },
  "language_info": {
   "codemirror_mode": {
    "name": "ipython",
    "version": 3
   },
   "file_extension": ".py",
   "mimetype": "text/x-python",
   "name": "python",
   "nbconvert_exporter": "python",
   "pygments_lexer": "ipython3",
   "version": "3.8.2"
  }
 },
 "nbformat": 4,
 "nbformat_minor": 4
}
